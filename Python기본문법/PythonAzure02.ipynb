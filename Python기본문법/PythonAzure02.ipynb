{
 "cells": [
  {
   "cell_type": "code",
   "execution_count": 1,
   "id": "67dc5661",
   "metadata": {},
   "outputs": [
    {
     "name": "stdout",
     "output_type": "stream",
     "text": [
      "Defaulting to user installation because normal site-packages is not writeable\n",
      "Collecting azure-storage-file\n",
      "  Downloading azure_storage_file-2.1.0-py2.py3-none-any.whl (36 kB)\n",
      "Requirement already satisfied: azure-common>=1.1.5 in c:\\users\\user\\appdata\\roaming\\python\\python39\\site-packages (from azure-storage-file) (1.1.28)\n",
      "Collecting azure-storage-common~=2.1\n",
      "  Downloading azure_storage_common-2.1.0-py2.py3-none-any.whl (47 kB)\n",
      "     ---------------------------------------- 47.8/47.8 kB 2.3 MB/s eta 0:00:00\n",
      "Requirement already satisfied: requests in c:\\programdata\\anaconda3\\lib\\site-packages (from azure-storage-common~=2.1->azure-storage-file) (2.28.1)\n",
      "Requirement already satisfied: python-dateutil in c:\\programdata\\anaconda3\\lib\\site-packages (from azure-storage-common~=2.1->azure-storage-file) (2.8.2)\n",
      "Requirement already satisfied: cryptography in c:\\programdata\\anaconda3\\lib\\site-packages (from azure-storage-common~=2.1->azure-storage-file) (37.0.1)\n",
      "Requirement already satisfied: cffi>=1.12 in c:\\programdata\\anaconda3\\lib\\site-packages (from cryptography->azure-storage-common~=2.1->azure-storage-file) (1.15.1)\n",
      "Requirement already satisfied: six>=1.5 in c:\\programdata\\anaconda3\\lib\\site-packages (from python-dateutil->azure-storage-common~=2.1->azure-storage-file) (1.16.0)\n",
      "Requirement already satisfied: urllib3<1.27,>=1.21.1 in c:\\programdata\\anaconda3\\lib\\site-packages (from requests->azure-storage-common~=2.1->azure-storage-file) (1.26.11)\n",
      "Requirement already satisfied: certifi>=2017.4.17 in c:\\programdata\\anaconda3\\lib\\site-packages (from requests->azure-storage-common~=2.1->azure-storage-file) (2022.9.14)\n",
      "Requirement already satisfied: charset-normalizer<3,>=2 in c:\\programdata\\anaconda3\\lib\\site-packages (from requests->azure-storage-common~=2.1->azure-storage-file) (2.0.4)\n",
      "Requirement already satisfied: idna<4,>=2.5 in c:\\programdata\\anaconda3\\lib\\site-packages (from requests->azure-storage-common~=2.1->azure-storage-file) (3.3)\n",
      "Requirement already satisfied: pycparser in c:\\programdata\\anaconda3\\lib\\site-packages (from cffi>=1.12->cryptography->azure-storage-common~=2.1->azure-storage-file) (2.21)\n",
      "Installing collected packages: azure-storage-common, azure-storage-file\n",
      "Successfully installed azure-storage-common-2.1.0 azure-storage-file-2.1.0\n"
     ]
    }
   ],
   "source": [
    "!pip install azure-storage-file"
   ]
  },
  {
   "cell_type": "code",
   "execution_count": 2,
   "id": "b22a9022",
   "metadata": {},
   "outputs": [],
   "source": [
    "from azure.storage.file import FileService\n",
    "file_service = FileService(account_name='labuser60storage2',account_key='q87wJjukSWjFf7WQ62ojvi8mads+zrSJ3bAoSB0LDo4mRoqd5z1jnXCexqXlN0DdRH3LI9hjuS+U+AStRAcFuQ==')"
   ]
  },
  {
   "cell_type": "code",
   "execution_count": 3,
   "id": "1d97dd76",
   "metadata": {},
   "outputs": [
    {
     "data": {
      "text/plain": [
       "True"
      ]
     },
     "execution_count": 3,
     "metadata": {},
     "output_type": "execute_result"
    }
   ],
   "source": [
    "file_service.create_share('myshare')"
   ]
  },
  {
   "cell_type": "code",
   "execution_count": 4,
   "id": "69b2b795",
   "metadata": {},
   "outputs": [
    {
     "data": {
      "text/plain": [
       "True"
      ]
     },
     "execution_count": 4,
     "metadata": {},
     "output_type": "execute_result"
    }
   ],
   "source": [
    "file_service.create_directory('myshare','sampledir')"
   ]
  },
  {
   "cell_type": "code",
   "execution_count": 7,
   "id": "40b3740a",
   "metadata": {},
   "outputs": [],
   "source": [
    "from azure.storage.file import ContentSettings\n",
    "file_service.create_file_from_path(\n",
    "   'myshare',\n",
    "    'sampledir',\n",
    "    'myfile.jpg',\n",
    "    'iu.jpg'\n",
    ")"
   ]
  },
  {
   "cell_type": "code",
   "execution_count": 9,
   "id": "53b04637",
   "metadata": {},
   "outputs": [
    {
     "name": "stdout",
     "output_type": "stream",
     "text": [
      "myfile\n",
      "sampledir\n"
     ]
    }
   ],
   "source": [
    "# directory 내용의 확인\n",
    "generator = file_service.list_directories_and_files('myshare')\n",
    "for file_or_dir in generator:\n",
    "    print(file_or_dir.name)"
   ]
  },
  {
   "cell_type": "code",
   "execution_count": 10,
   "id": "ebbac7d3",
   "metadata": {},
   "outputs": [
    {
     "data": {
      "text/plain": [
       "<azure.storage.file.models.File at 0x1d81da58b20>"
      ]
     },
     "execution_count": 10,
     "metadata": {},
     "output_type": "execute_result"
    }
   ],
   "source": [
    "# 파일을 가져오는 코드\n",
    "file_service.get_file_to_path('myshare',None,'myfile','IU_DOWNLOAD.jpg')"
   ]
  },
  {
   "cell_type": "code",
   "execution_count": 12,
   "id": "12567d86",
   "metadata": {},
   "outputs": [],
   "source": [
    "# snapshot\n",
    "metadata = {'foo':'bar'}\n",
    "snapshot = file_service.snapshot_share('myshare',metadata=metadata)"
   ]
  },
  {
   "cell_type": "code",
   "execution_count": 13,
   "id": "2ef6b4e9",
   "metadata": {},
   "outputs": [],
   "source": [
    "share = list(file_service.list_shares(include_snapshots=True))"
   ]
  },
  {
   "cell_type": "code",
   "execution_count": 23,
   "id": "a0d8744f",
   "metadata": {},
   "outputs": [
    {
     "name": "stdout",
     "output_type": "stream",
     "text": [
      "myfile\n",
      "sampledir\n"
     ]
    }
   ],
   "source": [
    "directories_and_file = list(file_service.list_directories_and_files('myshare',snapshot='2023-04-20T05:48:20.0000000Z'))\n",
    "for file_or_dir in directories_and_file:\n",
    "  print(file_or_dir.name)"
   ]
  },
  {
   "cell_type": "code",
   "execution_count": 24,
   "id": "18184ed2",
   "metadata": {},
   "outputs": [
    {
     "data": {
      "text/plain": [
       "True"
      ]
     },
     "execution_count": 24,
     "metadata": {},
     "output_type": "execute_result"
    }
   ],
   "source": [
    "file_service.delete_share('myshare',snapshot='2023-04-20T05:48:20.0000000Z')"
   ]
  },
  {
   "cell_type": "code",
   "execution_count": 25,
   "id": "aeb92dc4",
   "metadata": {},
   "outputs": [],
   "source": [
    "file_service.delete_file('myshare',None,'myfile')"
   ]
  },
  {
   "cell_type": "code",
   "execution_count": 26,
   "id": "1fdf54b2",
   "metadata": {},
   "outputs": [
    {
     "data": {
      "text/plain": [
       "True"
      ]
     },
     "execution_count": 26,
     "metadata": {},
     "output_type": "execute_result"
    }
   ],
   "source": [
    "file_service.delete_share('myshare')"
   ]
  },
  {
   "cell_type": "code",
   "execution_count": null,
   "id": "43d70819",
   "metadata": {},
   "outputs": [],
   "source": []
  }
 ],
 "metadata": {
  "kernelspec": {
   "display_name": "Python 3 (ipykernel)",
   "language": "python",
   "name": "python3"
  },
  "language_info": {
   "codemirror_mode": {
    "name": "ipython",
    "version": 3
   },
   "file_extension": ".py",
   "mimetype": "text/x-python",
   "name": "python",
   "nbconvert_exporter": "python",
   "pygments_lexer": "ipython3",
   "version": "3.10.9"
  }
 },
 "nbformat": 4,
 "nbformat_minor": 5
}
