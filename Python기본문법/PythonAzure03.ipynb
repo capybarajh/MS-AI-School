{
 "cells": [
  {
   "cell_type": "code",
   "execution_count": 1,
   "id": "c8acb8d6",
   "metadata": {},
   "outputs": [
    {
     "name": "stdout",
     "output_type": "stream",
     "text": [
      "Defaulting to user installation because normal site-packages is not writeable\n",
      "Collecting azure-storage-queue==2.1.0\n",
      "  Downloading azure_storage_queue-2.1.0-py2.py3-none-any.whl (24 kB)\n",
      "Requirement already satisfied: azure-storage-common~=2.1 in c:\\users\\user\\appdata\\roaming\\python\\python39\\site-packages (from azure-storage-queue==2.1.0) (2.1.0)\n",
      "Requirement already satisfied: azure-common>=1.1.5 in c:\\users\\user\\appdata\\roaming\\python\\python39\\site-packages (from azure-storage-queue==2.1.0) (1.1.28)\n",
      "Requirement already satisfied: python-dateutil in c:\\programdata\\anaconda3\\lib\\site-packages (from azure-storage-common~=2.1->azure-storage-queue==2.1.0) (2.8.2)\n",
      "Requirement already satisfied: requests in c:\\programdata\\anaconda3\\lib\\site-packages (from azure-storage-common~=2.1->azure-storage-queue==2.1.0) (2.28.1)\n",
      "Requirement already satisfied: cryptography in c:\\programdata\\anaconda3\\lib\\site-packages (from azure-storage-common~=2.1->azure-storage-queue==2.1.0) (37.0.1)\n",
      "Requirement already satisfied: cffi>=1.12 in c:\\programdata\\anaconda3\\lib\\site-packages (from cryptography->azure-storage-common~=2.1->azure-storage-queue==2.1.0) (1.15.1)\n",
      "Requirement already satisfied: six>=1.5 in c:\\programdata\\anaconda3\\lib\\site-packages (from python-dateutil->azure-storage-common~=2.1->azure-storage-queue==2.1.0) (1.16.0)\n",
      "Requirement already satisfied: idna<4,>=2.5 in c:\\programdata\\anaconda3\\lib\\site-packages (from requests->azure-storage-common~=2.1->azure-storage-queue==2.1.0) (3.3)\n",
      "Requirement already satisfied: urllib3<1.27,>=1.21.1 in c:\\programdata\\anaconda3\\lib\\site-packages (from requests->azure-storage-common~=2.1->azure-storage-queue==2.1.0) (1.26.11)\n",
      "Requirement already satisfied: certifi>=2017.4.17 in c:\\programdata\\anaconda3\\lib\\site-packages (from requests->azure-storage-common~=2.1->azure-storage-queue==2.1.0) (2022.9.14)\n",
      "Requirement already satisfied: charset-normalizer<3,>=2 in c:\\programdata\\anaconda3\\lib\\site-packages (from requests->azure-storage-common~=2.1->azure-storage-queue==2.1.0) (2.0.4)\n",
      "Requirement already satisfied: pycparser in c:\\programdata\\anaconda3\\lib\\site-packages (from cffi>=1.12->cryptography->azure-storage-common~=2.1->azure-storage-queue==2.1.0) (2.21)\n",
      "Installing collected packages: azure-storage-queue\n",
      "Successfully installed azure-storage-queue-2.1.0\n"
     ]
    }
   ],
   "source": [
    "!pip install azure-storage-queue==2.1.0"
   ]
  },
  {
   "cell_type": "code",
   "execution_count": 2,
   "id": "42b38729",
   "metadata": {},
   "outputs": [],
   "source": [
    "from azure.storage.queue import QueueService, QueueMessageFormat"
   ]
  },
  {
   "cell_type": "code",
   "execution_count": 3,
   "id": "68b2ae59",
   "metadata": {},
   "outputs": [
    {
     "data": {
      "text/plain": [
       "False"
      ]
     },
     "execution_count": 3,
     "metadata": {},
     "output_type": "execute_result"
    }
   ],
   "source": [
    "connect_str='DefaultEndpointsProtocol=https;AccountName=labuser1storage2;AccountKey=oR2DcNyvRRHxb56hroyHB2E2rqXMdjq9NJQMLyYNq9J7zenbBHuzWdQSXVcB5Z5p1QVUOsheDnWC+AStyROs1Q==;EndpointSuffix=core.windows.net'\n",
    "\n",
    "queue_name = 'queue-myqueue'\n",
    "queue_service = QueueService(connection_string=connect_str)\n",
    "\n",
    "queue_service.create_queue(queue_name)"
   ]
  },
  {
   "cell_type": "code",
   "execution_count": 4,
   "id": "e1a1e638",
   "metadata": {},
   "outputs": [],
   "source": [
    "queue_service.encode_function = QueueMessageFormat.binary_base64encode\n",
    "queue_service.decode_function = QueueMessageFormat.binary_base64decode"
   ]
  },
  {
   "cell_type": "code",
   "execution_count": 5,
   "id": "fd8319ab",
   "metadata": {},
   "outputs": [
    {
     "name": "stdout",
     "output_type": "stream",
     "text": [
      "Adding message: Hello World2\n"
     ]
    },
    {
     "data": {
      "text/plain": [
       "<azure.storage.queue.models.QueueMessage at 0x2abfb3f4d90>"
      ]
     },
     "execution_count": 5,
     "metadata": {},
     "output_type": "execute_result"
    }
   ],
   "source": [
    "import base64\n",
    "message = 'Hello World2'\n",
    "print('Adding message: ' + message)\n",
    "\n",
    "message = base64.b64encode(message.encode('utf-8'))\n",
    "queue_service.put_message(queue_name, message)"
   ]
  },
  {
   "cell_type": "code",
   "execution_count": 6,
   "id": "fe21f082",
   "metadata": {},
   "outputs": [
    {
     "name": "stdout",
     "output_type": "stream",
     "text": [
      "Peeked message: Hello World2\n"
     ]
    }
   ],
   "source": [
    "messages = queue_service.peek_messages(queue_name)\n",
    "\n",
    "for peeked_message in messages:\n",
    "  message = base64.b64decode(peeked_message.content)\n",
    "  print('Peeked message: ' + message.decode('utf-8'))"
   ]
  },
  {
   "cell_type": "code",
   "execution_count": 7,
   "id": "ce49529b",
   "metadata": {},
   "outputs": [
    {
     "name": "stdout",
     "output_type": "stream",
     "text": [
      "Got message: Hello World2\n"
     ]
    }
   ],
   "source": [
    "messages = queue_service.get_messages(queue_name)\n",
    "\n",
    "for msg in messages:\n",
    "  message = base64.b64decode(msg.content)\n",
    "  print('Got message: ' + message.decode('utf-8'))"
   ]
  },
  {
   "cell_type": "code",
   "execution_count": 8,
   "id": "fba3bedb",
   "metadata": {},
   "outputs": [
    {
     "data": {
      "text/plain": [
       "False"
      ]
     },
     "execution_count": 8,
     "metadata": {},
     "output_type": "execute_result"
    }
   ],
   "source": [
    "queue_service.delete_queue(queue_name)"
   ]
  },
  {
   "cell_type": "code",
   "execution_count": null,
   "id": "20647d40",
   "metadata": {},
   "outputs": [],
   "source": []
  }
 ],
 "metadata": {
  "kernelspec": {
   "display_name": "Python 3 (ipykernel)",
   "language": "python",
   "name": "python3"
  },
  "language_info": {
   "codemirror_mode": {
    "name": "ipython",
    "version": 3
   },
   "file_extension": ".py",
   "mimetype": "text/x-python",
   "name": "python",
   "nbconvert_exporter": "python",
   "pygments_lexer": "ipython3",
   "version": "3.10.9"
  }
 },
 "nbformat": 4,
 "nbformat_minor": 5
}
