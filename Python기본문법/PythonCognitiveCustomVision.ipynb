{
 "cells": [
  {
   "cell_type": "code",
   "execution_count": 37,
   "metadata": {
    "colab": {
     "base_uri": "https://localhost:8080/"
    },
    "id": "tyvhH3SVbn5q",
    "outputId": "9327a4e8-59a9-4dc1-faa3-e7ff099c7e5c"
   },
   "outputs": [
    {
     "name": "stdout",
     "output_type": "stream",
     "text": [
      "Looking in indexes: https://pypi.org/simple, https://us-python.pkg.dev/colab-wheels/public/simple/\n",
      "Requirement already satisfied: azure-cognitiveservices-vision-customvision in /usr/local/lib/python3.9/dist-packages (3.1.0)\n",
      "Requirement already satisfied: msrest>=0.5.0 in /usr/local/lib/python3.9/dist-packages (from azure-cognitiveservices-vision-customvision) (0.7.1)\n",
      "Requirement already satisfied: azure-common~=1.1 in /usr/local/lib/python3.9/dist-packages (from azure-cognitiveservices-vision-customvision) (1.1.28)\n",
      "Requirement already satisfied: requests~=2.16 in /usr/local/lib/python3.9/dist-packages (from msrest>=0.5.0->azure-cognitiveservices-vision-customvision) (2.27.1)\n",
      "Requirement already satisfied: isodate>=0.6.0 in /usr/local/lib/python3.9/dist-packages (from msrest>=0.5.0->azure-cognitiveservices-vision-customvision) (0.6.1)\n",
      "Requirement already satisfied: certifi>=2017.4.17 in /usr/local/lib/python3.9/dist-packages (from msrest>=0.5.0->azure-cognitiveservices-vision-customvision) (2022.12.7)\n",
      "Requirement already satisfied: requests-oauthlib>=0.5.0 in /usr/local/lib/python3.9/dist-packages (from msrest>=0.5.0->azure-cognitiveservices-vision-customvision) (1.3.1)\n",
      "Requirement already satisfied: azure-core>=1.24.0 in /usr/local/lib/python3.9/dist-packages (from msrest>=0.5.0->azure-cognitiveservices-vision-customvision) (1.26.4)\n",
      "Requirement already satisfied: typing-extensions>=4.3.0 in /usr/local/lib/python3.9/dist-packages (from azure-core>=1.24.0->msrest>=0.5.0->azure-cognitiveservices-vision-customvision) (4.5.0)\n",
      "Requirement already satisfied: six>=1.11.0 in /usr/local/lib/python3.9/dist-packages (from azure-core>=1.24.0->msrest>=0.5.0->azure-cognitiveservices-vision-customvision) (1.16.0)\n",
      "Requirement already satisfied: charset-normalizer~=2.0.0 in /usr/local/lib/python3.9/dist-packages (from requests~=2.16->msrest>=0.5.0->azure-cognitiveservices-vision-customvision) (2.0.12)\n",
      "Requirement already satisfied: idna<4,>=2.5 in /usr/local/lib/python3.9/dist-packages (from requests~=2.16->msrest>=0.5.0->azure-cognitiveservices-vision-customvision) (3.4)\n",
      "Requirement already satisfied: urllib3<1.27,>=1.21.1 in /usr/local/lib/python3.9/dist-packages (from requests~=2.16->msrest>=0.5.0->azure-cognitiveservices-vision-customvision) (1.26.15)\n",
      "Requirement already satisfied: oauthlib>=3.0.0 in /usr/local/lib/python3.9/dist-packages (from requests-oauthlib>=0.5.0->msrest>=0.5.0->azure-cognitiveservices-vision-customvision) (3.2.2)\n"
     ]
    }
   ],
   "source": [
    "pip install azure-cognitiveservices-vision-customvision"
   ]
  },
  {
   "cell_type": "code",
   "execution_count": 45,
   "metadata": {
    "id": "y_eZnh9wbqWD"
   },
   "outputs": [],
   "source": [
    "from azure.cognitiveservices.vision.customvision.training import CustomVisionTrainingClient\n",
    "from azure.cognitiveservices.vision.customvision.training.models import ImageFileCreateEntry\n",
    "from msrest.authentication import ApiKeyCredentials"
   ]
  },
  {
   "cell_type": "code",
   "execution_count": 46,
   "metadata": {
    "id": "-B0ttugvbvSn"
   },
   "outputs": [],
   "source": [
    "endpoint = 'https://labuser60custom.cognitiveservices.azure.com/'\n",
    "training_key = '25463230a0844c1da0512eac9ab2d503'"
   ]
  },
  {
   "cell_type": "code",
   "execution_count": 47,
   "metadata": {
    "id": "ta22GV1Hclv_"
   },
   "outputs": [],
   "source": [
    "publish_iteration_name = 'GreatWallModel_60'\n",
    "credentials = ApiKeyCredentials(in_headers={'Training-key': training_key})"
   ]
  },
  {
   "cell_type": "code",
   "execution_count": 48,
   "metadata": {
    "id": "gNfxorwzdVCe"
   },
   "outputs": [],
   "source": [
    "trainer = CustomVisionTrainingClient(endpoint, credentials)"
   ]
  },
  {
   "cell_type": "code",
   "execution_count": 49,
   "metadata": {
    "colab": {
     "base_uri": "https://localhost:8080/"
    },
    "id": "TlHk4kPnfiiU",
    "outputId": "5638205d-2d61-445b-e693-c1f8eb65e7c1"
   },
   "outputs": [
    {
     "name": "stdout",
     "output_type": "stream",
     "text": [
      "Creating project....\n"
     ]
    }
   ],
   "source": [
    "#Create a new project\n",
    "print('Creating project....')\n",
    "project_name = 'GreatWall_60'\n",
    "project = trainer.create_project(project_name)"
   ]
  },
  {
   "cell_type": "code",
   "execution_count": 50,
   "metadata": {
    "id": "6gvGXl2fgNge"
   },
   "outputs": [],
   "source": [
    "jajangmyeon_tag = trainer.create_tag(project.id, 'jajangmyeon') \n",
    "jjamppong_tag = trainer.create_tag(project.id, 'jjamppong')\n",
    "tangsuyug_tag = trainer.create_tag(project.id, 'tangsuyug')"
   ]
  },
  {
   "cell_type": "code",
   "execution_count": 51,
   "metadata": {
    "colab": {
     "base_uri": "https://localhost:8080/"
    },
    "id": "QvTfMADkh1Bx",
    "outputId": "9a8d4892-0627-4d20-aefe-9b8de2923978"
   },
   "outputs": [
    {
     "name": "stdout",
     "output_type": "stream",
     "text": [
      "Training......\n",
      "Training status: Training\n",
      "Waiting 10 seconds...\n",
      "Training status: Training\n",
      "Waiting 10 seconds...\n",
      "Training status: Training\n",
      "Waiting 10 seconds...\n",
      "Training status: Training\n",
      "Waiting 10 seconds...\n",
      "Training status: Training\n",
      "Waiting 10 seconds...\n",
      "Training status: Training\n",
      "Waiting 10 seconds...\n",
      "Training status: Training\n",
      "Waiting 10 seconds...\n",
      "Training status: Training\n",
      "Waiting 10 seconds...\n",
      "Training status: Training\n",
      "Waiting 10 seconds...\n",
      "Training status: Training\n",
      "Waiting 10 seconds...\n",
      "Training status: Training\n",
      "Waiting 10 seconds...\n",
      "Training status: Training\n",
      "Waiting 10 seconds...\n",
      "Training status: Training\n",
      "Waiting 10 seconds...\n",
      "Training status: Training\n",
      "Waiting 10 seconds...\n",
      "Training status: Training\n",
      "Waiting 10 seconds...\n",
      "Training status: Training\n",
      "Waiting 10 seconds...\n",
      "Training status: Training\n",
      "Waiting 10 seconds...\n",
      "Training status: Training\n",
      "Waiting 10 seconds...\n",
      "Training status: Training\n",
      "Waiting 10 seconds...\n",
      "Training status: Training\n",
      "Waiting 10 seconds...\n",
      "Training status: Training\n",
      "Waiting 10 seconds...\n",
      "Training status: Training\n",
      "Waiting 10 seconds...\n",
      "Training status: Training\n",
      "Waiting 10 seconds...\n",
      "Training status: Training\n",
      "Waiting 10 seconds...\n",
      "Training status: Training\n",
      "Waiting 10 seconds...\n",
      "Training status: Training\n",
      "Waiting 10 seconds...\n",
      "Training status: Training\n",
      "Waiting 10 seconds...\n",
      "Training status: Training\n",
      "Waiting 10 seconds...\n",
      "Training status: Training\n",
      "Waiting 10 seconds...\n",
      "Training status: Training\n",
      "Waiting 10 seconds...\n",
      "Training status: Training\n",
      "Waiting 10 seconds...\n",
      "Training status: Training\n",
      "Waiting 10 seconds...\n",
      "Training status: Training\n",
      "Waiting 10 seconds...\n",
      "Training status: Training\n",
      "Waiting 10 seconds...\n",
      "Training status: Training\n",
      "Waiting 10 seconds...\n",
      "Training status: Training\n",
      "Waiting 10 seconds...\n",
      "Training status: Training\n",
      "Waiting 10 seconds...\n",
      "Training status: Training\n",
      "Waiting 10 seconds...\n",
      "Training status: Completed\n",
      "Waiting 10 seconds...\n"
     ]
    }
   ],
   "source": [
    "# 학습의 시작\n",
    "import time\n",
    "\n",
    "print('Training......')\n",
    "iteration = trainer.train_project(project.id)\n",
    "while (iteration.status != 'Completed'):\n",
    "  iteration = trainer.get_iteration(project.id, iteration.id)\n",
    "  print('Training status: ' + iteration.status)\n",
    "  print('Waiting 10 seconds...')\n",
    "  time.sleep(10)"
   ]
  },
  {
   "cell_type": "code",
   "execution_count": 52,
   "metadata": {
    "id": "Ci6U8nh_oAs-"
   },
   "outputs": [],
   "source": [
    "# 예측, 추론하는 부분\n",
    "from azure.cognitiveservices.vision.customvision.prediction import CustomVisionPredictionClient"
   ]
  },
  {
   "cell_type": "code",
   "execution_count": 53,
   "metadata": {
    "id": "Vl524b6I14zT"
   },
   "outputs": [],
   "source": [
    "prediction_key = '296f77d4b2454c5997c43f62640b1b35'\n",
    "prediction_endpoint = 'https://labuser60custom-prediction.cognitiveservices.azure.com/'\n",
    "\n",
    "prediction_credential = ApiKeyCredentials(in_headers={'Prediction-key': prediction_key})"
   ]
  },
  {
   "cell_type": "code",
   "execution_count": 54,
   "metadata": {
    "id": "O4HGQpev3CA7"
   },
   "outputs": [],
   "source": [
    "# 예측 리소스의 생성 \n",
    "predictor = CustomVisionPredictionClient(prediction_endpoint, \n",
    "                                         prediction_credential)"
   ]
  },
  {
   "cell_type": "code",
   "execution_count": 57,
   "metadata": {
    "id": "oMRkc0Kb3mie"
   },
   "outputs": [],
   "source": [
    "target_image_url = 'https://encrypted-tbn0.gstatic.com/images?q=tbn:ANd9GcS0MbeleUFFbw_96LrF1x3PQlHCRJ19_PFi8Q&usqp=CAU'\n",
    "result = predictor.classify_image_url(project.id, \n",
    "                             'Iteration1', \n",
    "                             target_image_url)"
   ]
  },
  {
   "cell_type": "code",
   "execution_count": 58,
   "metadata": {
    "colab": {
     "base_uri": "https://localhost:8080/"
    },
    "id": "xnjt1lmb6lq1",
    "outputId": "4a0cfa80-19c7-4226-9d00-bc3397c1f103"
   },
   "outputs": [
    {
     "name": "stdout",
     "output_type": "stream",
     "text": [
      "\tjajangmyeon: 32.91%\n",
      "\tjjamppong: 22.80%\n",
      "\ttangsuyug: 9.73%\n"
     ]
    }
   ],
   "source": [
    "for prediction in result.predictions:\n",
    "  print('\\t' + prediction.tag_name + ': {0:.2f}%'.format(prediction.probability * 100))"
   ]
  },
  {
   "cell_type": "code",
   "execution_count": null,
   "metadata": {
    "id": "xbIYAKI07yD5"
   },
   "outputs": [],
   "source": []
  }
 ],
 "metadata": {
  "colab": {
   "provenance": []
  },
  "kernelspec": {
   "display_name": "Python 3 (ipykernel)",
   "language": "python",
   "name": "python3"
  },
  "language_info": {
   "codemirror_mode": {
    "name": "ipython",
    "version": 3
   },
   "file_extension": ".py",
   "mimetype": "text/x-python",
   "name": "python",
   "nbconvert_exporter": "python",
   "pygments_lexer": "ipython3",
   "version": "3.10.9"
  }
 },
 "nbformat": 4,
 "nbformat_minor": 1
}
