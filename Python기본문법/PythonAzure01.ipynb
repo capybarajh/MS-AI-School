{
 "cells": [
  {
   "cell_type": "code",
   "execution_count": 14,
   "id": "ce13c920",
   "metadata": {},
   "outputs": [
    {
     "name": "stdout",
     "output_type": "stream",
     "text": [
      "Defaulting to user installation because normal site-packages is not writeable\n",
      "Requirement already satisfied: azure-storage-blob in c:\\users\\user\\appdata\\roaming\\python\\python39\\site-packages (12.16.0)\n",
      "Requirement already satisfied: azure-identity in c:\\users\\user\\appdata\\roaming\\python\\python39\\site-packages (1.12.0)\n",
      "Requirement already satisfied: typing-extensions>=4.0.1 in c:\\programdata\\anaconda3\\lib\\site-packages (from azure-storage-blob) (4.3.0)\n",
      "Requirement already satisfied: isodate>=0.6.1 in c:\\users\\user\\appdata\\roaming\\python\\python39\\site-packages (from azure-storage-blob) (0.6.1)\n",
      "Requirement already satisfied: azure-core<2.0.0,>=1.26.0 in c:\\users\\user\\appdata\\roaming\\python\\python39\\site-packages (from azure-storage-blob) (1.26.4)\n",
      "Requirement already satisfied: cryptography>=2.1.4 in c:\\programdata\\anaconda3\\lib\\site-packages (from azure-storage-blob) (37.0.1)\n",
      "Requirement already satisfied: msal-extensions<2.0.0,>=0.3.0 in c:\\users\\user\\appdata\\roaming\\python\\python39\\site-packages (from azure-identity) (1.0.0)\n",
      "Requirement already satisfied: msal<2.0.0,>=1.12.0 in c:\\users\\user\\appdata\\roaming\\python\\python39\\site-packages (from azure-identity) (1.22.0)\n",
      "Requirement already satisfied: six>=1.12.0 in c:\\programdata\\anaconda3\\lib\\site-packages (from azure-identity) (1.16.0)\n",
      "Requirement already satisfied: requests>=2.18.4 in c:\\programdata\\anaconda3\\lib\\site-packages (from azure-core<2.0.0,>=1.26.0->azure-storage-blob) (2.28.1)\n",
      "Requirement already satisfied: cffi>=1.12 in c:\\programdata\\anaconda3\\lib\\site-packages (from cryptography>=2.1.4->azure-storage-blob) (1.15.1)\n",
      "Requirement already satisfied: PyJWT[crypto]<3,>=1.0.0 in c:\\programdata\\anaconda3\\lib\\site-packages (from msal<2.0.0,>=1.12.0->azure-identity) (2.4.0)\n",
      "Requirement already satisfied: portalocker<3,>=1.6 in c:\\users\\user\\appdata\\roaming\\python\\python39\\site-packages (from msal-extensions<2.0.0,>=0.3.0->azure-identity) (2.7.0)\n",
      "Requirement already satisfied: pycparser in c:\\programdata\\anaconda3\\lib\\site-packages (from cffi>=1.12->cryptography>=2.1.4->azure-storage-blob) (2.21)\n",
      "Requirement already satisfied: pywin32>=226 in c:\\programdata\\anaconda3\\lib\\site-packages (from portalocker<3,>=1.6->msal-extensions<2.0.0,>=0.3.0->azure-identity) (302)\n",
      "Requirement already satisfied: charset-normalizer<3,>=2 in c:\\programdata\\anaconda3\\lib\\site-packages (from requests>=2.18.4->azure-core<2.0.0,>=1.26.0->azure-storage-blob) (2.0.4)\n",
      "Requirement already satisfied: idna<4,>=2.5 in c:\\programdata\\anaconda3\\lib\\site-packages (from requests>=2.18.4->azure-core<2.0.0,>=1.26.0->azure-storage-blob) (3.3)\n",
      "Requirement already satisfied: urllib3<1.27,>=1.21.1 in c:\\programdata\\anaconda3\\lib\\site-packages (from requests>=2.18.4->azure-core<2.0.0,>=1.26.0->azure-storage-blob) (1.26.11)\n",
      "Requirement already satisfied: certifi>=2017.4.17 in c:\\programdata\\anaconda3\\lib\\site-packages (from requests>=2.18.4->azure-core<2.0.0,>=1.26.0->azure-storage-blob) (2022.9.14)\n"
     ]
    }
   ],
   "source": [
    "#!pip install azure-storage-blob azure-identity"
   ]
  },
  {
   "cell_type": "code",
   "execution_count": 15,
   "id": "0f459eb7",
   "metadata": {},
   "outputs": [],
   "source": [
    "import os, uuid\n",
    "from azure.identity import DefaultAzureCredential\n",
    "from azure.storage.blob import BlobServiceClient, BlobClient, ContainerClient"
   ]
  },
  {
   "cell_type": "code",
   "execution_count": 16,
   "id": "baff3bf5",
   "metadata": {},
   "outputs": [],
   "source": [
    "# Blob Services에 접속\n",
    "# connect_str에 연결 문자열 복사\n",
    "connect_str = 'DefaultEndpointsProtocol=https;AccountName=labuser60storage2;AccountKey=q87wJjukSWjFf7WQ62ojvi8mads+zrSJ3bAoSB0LDo4mRoqd5z1jnXCexqXlN0DdRH3LI9hjuS+U+AStRAcFuQ==;EndpointSuffix=core.windows.net'\n",
    "blob_service_client = BlobServiceClient.from_connection_string(connect_str)"
   ]
  },
  {
   "cell_type": "code",
   "execution_count": 17,
   "id": "3a4817ab",
   "metadata": {},
   "outputs": [],
   "source": [
    "container_name = 'test2container'\n",
    "\n",
    "container_client = blob_service_client.create_container(container_name)"
   ]
  },
  {
   "cell_type": "code",
   "execution_count": 18,
   "id": "536976c1",
   "metadata": {},
   "outputs": [],
   "source": [
    "# Create a local directory to hold blob data\n",
    "local_path = './data'\n",
    "os.mkdir(local_path)\n",
    "\n",
    "# Create a file in the local data directory to upload and download\n",
    "local_file_name = 'welcome' + '.txt'\n",
    "upload_file_path = os.path.join(local_path, local_file_name)\n",
    "\n",
    "# Write text to the file\n",
    "file = open(upload_file_path, mode='w')\n",
    "file.write('Welcome to Python')\n",
    "file.close() # close를 해줘야 파일이 안깨짐"
   ]
  },
  {
   "cell_type": "code",
   "execution_count": 19,
   "id": "0761f985",
   "metadata": {},
   "outputs": [],
   "source": [
    "blob_client = blob_service_client.get_blob_client(\n",
    "    container=container_name,\n",
    "    blob=local_file_name\n",
    ")\n",
    "with open(file=upload_file_path, mode='rb') as data:\n",
    "    blob_client.upload_blob(data)"
   ]
  },
  {
   "cell_type": "code",
   "execution_count": 21,
   "id": "6df6af77",
   "metadata": {},
   "outputs": [
    {
     "name": "stdout",
     "output_type": "stream",
     "text": [
      "\n",
      "Listing blobs\n",
      "\twelcome.txt\n"
     ]
    }
   ],
   "source": [
    "# blob 파일의 리스트를 확인한다.\n",
    "print('\\nListing blobs')\n",
    "\n",
    "blob_list = container_client.list_blobs()\n",
    "for blob in blob_list:\n",
    "    print('\\t' +blob.name)"
   ]
  },
  {
   "cell_type": "code",
   "execution_count": 23,
   "id": "ed270a1e",
   "metadata": {},
   "outputs": [
    {
     "name": "stdout",
     "output_type": "stream",
     "text": [
      "./data\\welcomeDOWNLOAD.txt\n"
     ]
    }
   ],
   "source": [
    "# Download the blob to a local file\n",
    "# Add 'DOWNLOAD' befere the .txt extendsion so you can see both files in the data directory \n",
    "\n",
    "download_file_path = os.path.join(local_path, \n",
    "                                  str.replace(local_file_name,'.txt','_DOWNLOAD.txt'))\n",
    "print(download_file_path)\n",
    "container_client = blob_service_client.get_container_client(container=container_name)\n",
    "\n",
    "with open(file=download_file_path, mode='wb') as download_file:\n",
    "    download_file.write(container_client.download_blob(blob.name).readall())"
   ]
  },
  {
   "cell_type": "code",
   "execution_count": 24,
   "id": "d82bda64",
   "metadata": {},
   "outputs": [
    {
     "name": "stdout",
     "output_type": "stream",
     "text": [
      "\n",
      "Press the Enter Key to begin clean up\n",
      "\n",
      "Deleting blob container...\n",
      "Deleteing the local source and downloaded files....\n",
      "Done\n"
     ]
    }
   ],
   "source": [
    "# Clean Up\n",
    "print('\\nPress the Enter Key to begin clean up')\n",
    "input()\n",
    "\n",
    "print('Deleting blob container...')\n",
    "container_client.delete_container()\n",
    "\n",
    "print('Deleteing the local source and downloaded files....')\n",
    "os.remove(upload_file_path)\n",
    "os.remove(download_file_path)\n",
    "os.rmdir(local_path)\n",
    "\n",
    "print('Done')"
   ]
  },
  {
   "cell_type": "code",
   "execution_count": null,
   "id": "41b98d25",
   "metadata": {},
   "outputs": [],
   "source": []
  }
 ],
 "metadata": {
  "kernelspec": {
   "display_name": "Python 3 (ipykernel)",
   "language": "python",
   "name": "python3"
  },
  "language_info": {
   "codemirror_mode": {
    "name": "ipython",
    "version": 3
   },
   "file_extension": ".py",
   "mimetype": "text/x-python",
   "name": "python",
   "nbconvert_exporter": "python",
   "pygments_lexer": "ipython3",
   "version": "3.10.9"
  }
 },
 "nbformat": 4,
 "nbformat_minor": 5
}
