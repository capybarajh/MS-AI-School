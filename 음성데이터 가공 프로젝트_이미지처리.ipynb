{
 "cells": [
  {
   "cell_type": "markdown",
   "id": "7904fcfb",
   "metadata": {},
   "source": [
    "# 이미지 리사이즈"
   ]
  },
  {
   "cell_type": "code",
   "execution_count": 1,
   "id": "4b1aac04",
   "metadata": {},
   "outputs": [],
   "source": [
    "import os \n",
    "import glob\n",
    "from tqdm import tqdm\n",
    "from PIL import Image"
   ]
  },
  {
   "cell_type": "markdown",
   "id": "59d815f8",
   "metadata": {},
   "source": [
    "### 1. 리사이즈 함수 - padding 추가"
   ]
  },
  {
   "cell_type": "code",
   "execution_count": 2,
   "id": "adb3036c",
   "metadata": {},
   "outputs": [],
   "source": [
    "def process_img_resize(pil_img, background_color) : \n",
    "    witdh, height = pil_img.size\n",
    "    \n",
    "    if witdh == height : \n",
    "        return pil_img\n",
    "    \n",
    "    elif witdh > height : \n",
    "        result = Image.new(pil_img.mode, (witdh, witdh), background_color)\n",
    "        result.paste(pil_img, (0, (witdh - height) // 2))\n",
    "        return result\n",
    "    \n",
    "    else :\n",
    "        result = Image.new(pil_img.mode, (height, height), background_color)\n",
    "        result.paste(pil_img, ((height- witdh) // 2, 0))\n",
    "        return result\n",
    "    \n",
    "    \n",
    "def resize_with_padding(pil_img, new_size, background_color) : \n",
    "    img = process_img_resize(pil_img, background_color)\n",
    "    img = img.resize((new_size[0], new_size[1]), Image.ANTIALIAS)\n",
    "    \n",
    "    return img"
   ]
  },
  {
   "cell_type": "markdown",
   "id": "73cb793c",
   "metadata": {},
   "source": [
    "### 2. 메인함수"
   ]
  },
  {
   "cell_type": "code",
   "execution_count": 12,
   "id": "10c88b21",
   "metadata": {},
   "outputs": [
    {
     "name": "stderr",
     "output_type": "stream",
     "text": [
      "  0%|                                                                                         | 0/8991 [00:00<?, ?it/s]C:\\Users\\ljh29\\AppData\\Local\\Temp\\ipykernel_26840\\4215924800.py:20: DeprecationWarning: ANTIALIAS is deprecated and will be removed in Pillow 10 (2023-07-01). Use LANCZOS or Resampling.LANCZOS instead.\n",
      "  img = img.resize((new_size[0], new_size[1]), Image.ANTIALIAS)\n",
      "100%|██████████████████████████████████████████████████████████████████████████████| 8991/8991 [07:51<00:00, 19.08it/s]\n"
     ]
    }
   ],
   "source": [
    "if __name__ == '__main__' : \n",
    "    \n",
    "    genre_foder_map = {\n",
    "        'blues' : 'blues',\n",
    "        'classical' : 'classical', \n",
    "        'country' : 'country',\n",
    "        'disco' : 'disco',\n",
    "        'hiphop' : 'hiphop',\n",
    "        'jazz' : 'jazz',\n",
    "        'metal' : 'metal', \n",
    "        'pop' : 'pop', \n",
    "        'reggae' : 'reggae',\n",
    "        'rock' : 'rock'\n",
    "    }\n",
    "    \n",
    "    file_path = \"./image_extraction_data/\"\n",
    "    # ./image_extraction_data/폴더/폴더/*png\n",
    "    \n",
    "    file_path_list = glob.glob(os.path.join(file_path, \"*\", \"*\", \"*.png\"))\n",
    "    \n",
    "    for path in tqdm(file_path_list):\n",
    "        \n",
    "        # ./image_extraction_data\\mode\\genre\\*.png\n",
    "        # [. , image_extraction_data, 폴더, 폴더 , image01.png ]\n",
    "        \n",
    "        mode, genre, file_name = path.split('\\\\')[1:]\n",
    "        \n",
    "        if mode in ['waveshow', 'STFT', 'MelSpectrogram'] :\n",
    "            img = Image.open(path)\n",
    "            img_new = resize_with_padding(img, (255,255), (0,0,0))\n",
    "            \n",
    "            if genre in genre_foder_map : \n",
    "                \n",
    "                # ./final_data/mode('waveshow', 'STFT', 'MelSpectrogram')/ genre ('blues'...) / image\n",
    "                \n",
    "                save_file_name = f\"./final_data/{mode}/{genre_foder_map[genre]}/{file_name}\"\n",
    "                img_new.save(save_file_name, 'png')"
   ]
  },
  {
   "cell_type": "code",
   "execution_count": null,
   "id": "c3c1b590",
   "metadata": {},
   "outputs": [],
   "source": []
  }
 ],
 "metadata": {
  "kernelspec": {
   "display_name": "capybara",
   "language": "python",
   "name": "capybara"
  },
  "language_info": {
   "codemirror_mode": {
    "name": "ipython",
    "version": 3
   },
   "file_extension": ".py",
   "mimetype": "text/x-python",
   "name": "python",
   "nbconvert_exporter": "python",
   "pygments_lexer": "ipython3",
   "version": "3.8.16"
  }
 },
 "nbformat": 4,
 "nbformat_minor": 5
}
