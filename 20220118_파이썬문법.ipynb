{
 "cells": [
  {
   "cell_type": "code",
   "execution_count": 1,
   "id": "38addd06",
   "metadata": {},
   "outputs": [
    {
     "name": "stdout",
     "output_type": "stream",
     "text": [
      "['False', 'None', 'True', '__peg_parser__', 'and', 'as', 'assert', 'async', 'await', 'break', 'class', 'continue', 'def', 'del', 'elif', 'else', 'except', 'finally', 'for', 'from', 'global', 'if', 'import', 'in', 'is', 'lambda', 'nonlocal', 'not', 'or', 'pass', 'raise', 'return', 'try', 'while', 'with', 'yield']\n",
      "100\n",
      "300\n",
      "150\n",
      "350\n",
      "150\n",
      "hello \"python\"\n",
      "hello \"python\"\n",
      "abc\n",
      "def\n",
      "abc\tdef\n",
      "동해물과\n",
      "백두산이\n",
      "마르고\n",
      "닳도록\n",
      "----------------------\n",
      "동해물과\n",
      "백두산이\n",
      "마르고\n",
      "닿도록\n",
      "----------------------\n"
     ]
    }
   ],
   "source": [
    "# 주석\n",
    "# 모든 프로그램은 반드시 주석이 있어야 한다...\n",
    "# print(\"안녕하세요. 첫 수업입니다.\")\n",
    "\n",
    "import keyword\n",
    "print(keyword.kwlist)\n",
    "\n",
    "# 프린트 함수 연습\n",
    "number = 150  # 변수 선언 및 초기화\n",
    "print(100)\n",
    "print(100+200)\n",
    "print(number)   # 변수 출력(number)\n",
    "print(number+200)\n",
    "number2 = number  # 새로운 변수에 값을 할당 및 초기화\n",
    "print(number2)\n",
    "number2 = 300\n",
    "\n",
    "# 초기화--> 값을 최초로 할당\n",
    "\n",
    "# 변수를 처음 사용하고 값을 초기화 하지 않으면.. 기존에 있는 변수로 생각하기때문에\n",
    "# 에러\n",
    "# number3\n",
    "\n",
    "print(\"hello \\\"python\\\"\")\n",
    "print('hello \"python\"')\n",
    "\n",
    "print(\"abc\\ndef\")\n",
    "print(\"abc\\tdef\")\n",
    "\n",
    "message = \"동해물과\\n백두산이\\n마르고\\n닳도록\"\n",
    "print(message)\n",
    "\n",
    "print(\"----------------------\")\n",
    "print(\"\"\"\\\n",
    "동해물과\n",
    "백두산이\n",
    "마르고\n",
    "닿도록\\\n",
    "\"\"\")\n",
    "print(\"----------------------\")"
   ]
  },
  {
   "cell_type": "code",
   "execution_count": 2,
   "id": "68b90aeb",
   "metadata": {},
   "outputs": [
    {
     "name": "stdout",
     "output_type": "stream",
     "text": [
      "안\n",
      "---------------------------\n",
      "안녕하세요\n",
      "녕하세\n",
      "녕하세\n",
      "녕하\n",
      "요\n",
      "세\n",
      "안녕하세\n",
      "요\n",
      "안녕하세요\n",
      "안녕하세요\n"
     ]
    },
    {
     "ename": "IndexError",
     "evalue": "string index out of range",
     "output_type": "error",
     "traceback": [
      "\u001b[1;31m---------------------------------------------------------------------------\u001b[0m",
      "\u001b[1;31mIndexError\u001b[0m                                Traceback (most recent call last)",
      "Input \u001b[1;32mIn [2]\u001b[0m, in \u001b[0;36m<cell line: 23>\u001b[1;34m()\u001b[0m\n\u001b[0;32m     21\u001b[0m \u001b[38;5;28mprint\u001b[39m(\u001b[38;5;124m\"\u001b[39m\u001b[38;5;124m안녕하세요\u001b[39m\u001b[38;5;124m\"\u001b[39m[\u001b[38;5;241m0\u001b[39m:])\n\u001b[0;32m     22\u001b[0m \u001b[38;5;28mprint\u001b[39m(\u001b[38;5;124m\"\u001b[39m\u001b[38;5;124m안녕하세요\u001b[39m\u001b[38;5;124m\"\u001b[39m[\u001b[38;5;241m0\u001b[39m:\u001b[38;5;241m10\u001b[39m])\n\u001b[1;32m---> 23\u001b[0m \u001b[38;5;28mprint\u001b[39m(\u001b[38;5;124;43m\"\u001b[39;49m\u001b[38;5;124;43m안녕하세요\u001b[39;49m\u001b[38;5;124;43m\"\u001b[39;49m\u001b[43m[\u001b[49m\u001b[38;5;241;43m10\u001b[39;49m\u001b[43m]\u001b[49m)\n",
      "\u001b[1;31mIndexError\u001b[0m: string index out of range"
     ]
    }
   ],
   "source": [
    "ch01 = \"안녕하세요\"[0]\n",
    "print(ch01)\n",
    "\n",
    "#리터럴을 변경 할 수 없다\n",
    "#\"안녕하세요\"[0] = \"안\"\n",
    "\n",
    "print(\"---------------------------\")\n",
    "print(\"안녕하세요\")\n",
    "print(\"안녕하세요\"[1:4])\n",
    "print(\"안녕하세요\"[1:-1])\n",
    "print(\"안녕하세요\"[1:-2])\n",
    "print(\"안녕하세요\"[-1])\n",
    "print(\"안녕하세요\"[-2])\n",
    "\n",
    "message = \"안녕하세요\"\n",
    "train = message[0:-1]\n",
    "test = message[-1]\n",
    "print(train)\n",
    "print(test)\n",
    "\n",
    "print(\"안녕하세요\"[0:])\n",
    "print(\"안녕하세요\"[0:10])\n",
    "print(\"안녕하세요\"[10])\n",
    "\n",
    "# 슬라이싱은 indexError 없지만..\n",
    "# 인덱스 방식은 over 하면 안된다"
   ]
  },
  {
   "cell_type": "code",
   "execution_count": 3,
   "id": "f3629def",
   "metadata": {},
   "outputs": [
    {
     "name": "stdout",
     "output_type": "stream",
     "text": [
      "안녕하세요 반갑습니다.\n",
      "201동 205호의 5월 관리비는 5,400원 입니다.\n",
      "201동 205호의 5월 관리비는 5,400원 입니다.\n"
     ]
    }
   ],
   "source": [
    "message = \"반갑습니다.\"\n",
    "print(\"안녕하세요 \" + message)\n",
    "\n",
    "# 201동 205호의 5월 관리비는 5,4000원 입니다.\n",
    "# 201동 205호의 5월 관리비는 5,4000원 입니다.\n",
    "\n",
    "dong = \"201\"\n",
    "ho = \"205\"\n",
    "month = \"5\"\n",
    "pay = \"5,400\"\n",
    "print(dong+\"동 \" + ho + \"호의 \" + month + \"월 관리비는 \" + pay + \"원 입니다.\")\n",
    "\n",
    "print(f'{dong}동 {ho}호의 {month}월 관리비는 {pay}원 입니다.')"
   ]
  },
  {
   "cell_type": "code",
   "execution_count": null,
   "id": "be4556a6",
   "metadata": {},
   "outputs": [],
   "source": []
  }
 ],
 "metadata": {
  "kernelspec": {
   "display_name": "Python 3 (ipykernel)",
   "language": "python",
   "name": "python3"
  },
  "language_info": {
   "codemirror_mode": {
    "name": "ipython",
    "version": 3
   },
   "file_extension": ".py",
   "mimetype": "text/x-python",
   "name": "python",
   "nbconvert_exporter": "python",
   "pygments_lexer": "ipython3",
   "version": "3.9.12"
  }
 },
 "nbformat": 4,
 "nbformat_minor": 5
}
